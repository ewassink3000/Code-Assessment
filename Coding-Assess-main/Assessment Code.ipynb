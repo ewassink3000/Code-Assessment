{
 "cells": [
  {
   "cell_type": "code",
   "execution_count": 2,
   "id": "e4d4b0d4",
   "metadata": {},
   "outputs": [],
   "source": [
    "import requests\n",
    "import pandas as pd"
   ]
  },
  {
   "cell_type": "code",
   "execution_count": 18,
   "id": "92f06a04",
   "metadata": {},
   "outputs": [],
   "source": [
    "def fetch_fred_yield(series_id, start_date=\"2023-01-01\", end_date=\"2023-12-31\", api_key=\"your_api_key\"):\n",
    "    # Define the API URL and parameters here\n",
    "    FRED_URL_OBS = \"https://api.stlouisfed.org/fred/series/observations\"\n",
    "    params_obs = {\n",
    "        'series_id': series_id,\n",
    "        'api_key': FRED_API_KEY,\n",
    "        'file_type': 'json',\n",
    "        'observation_start': start_date,\n",
    "        'observation_end': end_date\n",
    "    }\n",
    "    \n",
    "    # Make an API request and handle errors\n",
    "    response = requests.get(FRED_URL_OBS, params = params_obs)\n",
    "    # Convert response JSON into a DataFrame, setting 'date' as index\n",
    "    data = response.json()\n",
    "    df = pd.DataFrame(data['observations'])[['date', 'value']]\n",
    "    \n",
    "    # Convert the 'value' column to numeric and rename it based on series_id\n",
    "    df['value'] = pd.to_numeric(df['value'], errors = 'coerce')\n",
    "    df.set_index('date', inplace = True)\n",
    "    \n",
    "    df.rename(columns={'value': series_id}, inplace=True)\n",
    "    \n",
    "    return df"
   ]
  },
  {
   "cell_type": "code",
   "execution_count": 19,
   "id": "7e179bd5",
   "metadata": {},
   "outputs": [],
   "source": [
    "tenor_series_ids = [\n",
    "    \"DGS1MO\", \"DGS3MO\", \"DGS6MO\", \"DGS1\",  # Short-term yields\n",
    "    \"DGS2\", \"DGS3\", \"DGS5\",               # Medium-term yields\n",
    "    \"DGS7\", \"DGS10\", \"DGS20\", \"DGS30\"     # Long-term yields\n",
    "]"
   ]
  },
  {
   "cell_type": "code",
   "execution_count": 20,
   "id": "e31886cc",
   "metadata": {},
   "outputs": [],
   "source": [
    "# Initialize API key\n",
    "FRED_API_KEY = 'fa18d1f8129ead8c2ed605f0986c8253'"
   ]
  },
  {
   "cell_type": "code",
   "execution_count": 21,
   "id": "42354ff6",
   "metadata": {
    "scrolled": true
   },
   "outputs": [],
   "source": [
    "# Fetch data for each tenor, store in a dictionary of DataFrames\n",
    "tenors_df = {}\n",
    "for tenor_id in tenor_series_ids:    \n",
    "    df_tenor = fetch_fred_yield(tenor_id, \"2023-01-01\", \"2023-12-31\", FRED_API_KEY)\n",
    "    tenors_df[tenor_id] = df_tenor"
   ]
  },
  {
   "cell_type": "code",
   "execution_count": 22,
   "id": "3780dc0e",
   "metadata": {
    "scrolled": true
   },
   "outputs": [
    {
     "name": "stdout",
     "output_type": "stream",
     "text": [
      "            DGS1MO  DGS3MO  DGS6MO  DGS1  DGS2  DGS3  DGS5  DGS7  DGS10  \\\n",
      "date                                                                      \n",
      "2023-01-02     NaN     NaN     NaN   NaN   NaN   NaN   NaN   NaN    NaN   \n",
      "2023-01-03    4.17    4.53    4.77  4.72  4.40  4.18  3.94  3.89   3.79   \n",
      "2023-01-04    4.20    4.55    4.77  4.71  4.36  4.11  3.85  3.79   3.69   \n",
      "2023-01-05    4.30    4.66    4.81  4.78  4.45  4.18  3.90  3.82   3.71   \n",
      "2023-01-06    4.32    4.67    4.79  4.71  4.24  3.96  3.69  3.63   3.55   \n",
      "...            ...     ...     ...   ...   ...   ...   ...   ...    ...   \n",
      "2023-12-25     NaN     NaN     NaN   NaN   NaN   NaN   NaN   NaN    NaN   \n",
      "2023-12-26    5.53    5.45    5.28  4.83  4.26  4.05  3.89  3.91   3.89   \n",
      "2023-12-27    5.55    5.44    5.26  4.79  4.20  3.97  3.78  3.81   3.79   \n",
      "2023-12-28    5.57    5.45    5.28  4.82  4.26  4.02  3.83  3.84   3.84   \n",
      "2023-12-29    5.60    5.40    5.26  4.79  4.23  4.01  3.84  3.88   3.88   \n",
      "\n",
      "            DGS20  DGS30  \n",
      "date                      \n",
      "2023-01-02    NaN    NaN  \n",
      "2023-01-03   4.06   3.88  \n",
      "2023-01-04   3.97   3.81  \n",
      "2023-01-05   3.96   3.78  \n",
      "2023-01-06   3.84   3.67  \n",
      "...           ...    ...  \n",
      "2023-12-25    NaN    NaN  \n",
      "2023-12-26   4.20   4.04  \n",
      "2023-12-27   4.10   3.95  \n",
      "2023-12-28   4.14   3.98  \n",
      "2023-12-29   4.20   4.03  \n",
      "\n",
      "[260 rows x 11 columns]\n"
     ]
    }
   ],
   "source": [
    "# Combine all DataFrames into a single DataFrame, joining on the date index\n",
    "df_combined = pd.concat(tenors_df.values(), axis=1)\n",
    "print(df_combined)"
   ]
  },
  {
   "cell_type": "code",
   "execution_count": 23,
   "id": "1bd75563",
   "metadata": {},
   "outputs": [
    {
     "name": "stdout",
     "output_type": "stream",
     "text": [
      "Number of rows in df_combined: 260\n"
     ]
    }
   ],
   "source": [
    "# Print the number of rows in the final DataFrame\n",
    "num_rows = df_combined.shape[0]\n",
    "print(f\"Number of rows in df_combined: {num_rows}\")"
   ]
  },
  {
   "cell_type": "code",
   "execution_count": 24,
   "id": "9ff73bba",
   "metadata": {},
   "outputs": [],
   "source": [
    "### 4. Spread Calculation\n",
    "# Load the file `data/Part 1.bond_yields.xlsx`. For each bond:\n",
    "# - Calculate its spread over the Treasury curve.\n",
    "# - If a bond’s WAL (Weighted Average Life) falls between two points on the Treasury curve, use linear interpolation.\n",
    "bond_data = pd.read_excel(\"data\\Part 1. bonds_yields.xlsx\")"
   ]
  },
  {
   "cell_type": "code",
   "execution_count": 25,
   "id": "40db7c6d",
   "metadata": {
    "scrolled": true
   },
   "outputs": [
    {
     "name": "stdout",
     "output_type": "stream",
     "text": [
      "   Bond ID  WAL (years)  Yield (%)             Sector\n",
      "0   Bond A          1.0       8.63  Telecommunication\n",
      "1   Bond B          1.5       7.95   Consumer Staples\n",
      "2   Bond C          2.2       7.53          Utilities\n",
      "3   Bond D          3.0       7.71         Financials\n",
      "4   Bond E          4.0       8.45  Telecommunication\n",
      "5   Bond F          5.0       7.74   Consumer Staples\n",
      "6   Bond G          6.2       7.66          Utilities\n",
      "7   Bond H          8.0       8.03         Financials\n",
      "8   Bond I          9.0       8.33  Telecommunication\n",
      "9   Bond J          4.5       7.38   Consumer Staples\n",
      "10  Bond K          1.3       8.55  Telecommunication\n",
      "11  Bond L          2.0       7.73   Consumer Staples\n",
      "12  Bond M          2.8       7.61          Utilities\n",
      "13  Bond N          3.5       7.75         Financials\n",
      "14  Bond O          5.3       8.64  Telecommunication\n",
      "15  Bond P          6.0       7.56   Consumer Staples\n",
      "16  Bond Q          7.5       7.83          Utilities\n",
      "17  Bond R          8.5       8.23         Financials\n",
      "18  Bond S          5.2       8.34  Telecommunication\n",
      "19  Bond T          2.5       7.21   Consumer Staples\n",
      "20  Bond U          6.8       7.53          Utilities\n",
      "21  Bond V          7.8       7.63         Financials\n"
     ]
    }
   ],
   "source": [
    "print(bond_data)"
   ]
  },
  {
   "cell_type": "code",
   "execution_count": 26,
   "id": "db0744b6",
   "metadata": {},
   "outputs": [],
   "source": [
    "from scipy.interpolate import interp1d\n",
    "import matplotlib.pyplot as plt"
   ]
  },
  {
   "cell_type": "code",
   "execution_count": 27,
   "id": "9c7190af",
   "metadata": {},
   "outputs": [],
   "source": [
    "latest_date = df_combined.index.max()\n",
    "bond_data['date'] = latest_date"
   ]
  },
  {
   "cell_type": "code",
   "execution_count": 28,
   "id": "30b33966",
   "metadata": {},
   "outputs": [
    {
     "name": "stdout",
     "output_type": "stream",
     "text": [
      "   Bond ID  WAL (years)  Yield (%)             Sector        date\n",
      "0   Bond A          1.0       8.63  Telecommunication  2023-12-29\n",
      "1   Bond B          1.5       7.95   Consumer Staples  2023-12-29\n",
      "2   Bond C          2.2       7.53          Utilities  2023-12-29\n",
      "3   Bond D          3.0       7.71         Financials  2023-12-29\n",
      "4   Bond E          4.0       8.45  Telecommunication  2023-12-29\n",
      "5   Bond F          5.0       7.74   Consumer Staples  2023-12-29\n",
      "6   Bond G          6.2       7.66          Utilities  2023-12-29\n",
      "7   Bond H          8.0       8.03         Financials  2023-12-29\n",
      "8   Bond I          9.0       8.33  Telecommunication  2023-12-29\n",
      "9   Bond J          4.5       7.38   Consumer Staples  2023-12-29\n",
      "10  Bond K          1.3       8.55  Telecommunication  2023-12-29\n",
      "11  Bond L          2.0       7.73   Consumer Staples  2023-12-29\n",
      "12  Bond M          2.8       7.61          Utilities  2023-12-29\n",
      "13  Bond N          3.5       7.75         Financials  2023-12-29\n",
      "14  Bond O          5.3       8.64  Telecommunication  2023-12-29\n",
      "15  Bond P          6.0       7.56   Consumer Staples  2023-12-29\n",
      "16  Bond Q          7.5       7.83          Utilities  2023-12-29\n",
      "17  Bond R          8.5       8.23         Financials  2023-12-29\n",
      "18  Bond S          5.2       8.34  Telecommunication  2023-12-29\n",
      "19  Bond T          2.5       7.21   Consumer Staples  2023-12-29\n",
      "20  Bond U          6.8       7.53          Utilities  2023-12-29\n",
      "21  Bond V          7.8       7.63         Financials  2023-12-29\n"
     ]
    }
   ],
   "source": [
    "print(bond_data)"
   ]
  },
  {
   "cell_type": "code",
   "execution_count": 29,
   "id": "baf2f676",
   "metadata": {},
   "outputs": [],
   "source": [
    "def calculate_spread(row):\n",
    "\n",
    "    wal = row['WAL (years)']\n",
    "    date = row['date']\n",
    "\n",
    "    if date not in df_combined.index:\n",
    "        return np.nan\n",
    "    \n",
    "    # Treasury curve for the given date\n",
    "    treasury_curve = df_combined.loc[date]\n",
    "\n",
    "    x = [1, 2, 3, 5, 7, 10, 20, 30]\n",
    "    y = treasury_curve[[\n",
    "        \"DGS1\", \"DGS2\", \"DGS3\", \"DGS5\", \"DGS7\", \"DGS10\", \"DGS20\", \"DGS30\"\n",
    "    ]].values  # Yields\n",
    "\n",
    "    f = interp1d(x, y, fill_value='extrapolate')\n",
    "\n",
    "    interpolated_yield = f(wal)\n",
    "    return row['Yield (%)'] - interpolated_yield"
   ]
  },
  {
   "cell_type": "code",
   "execution_count": 30,
   "id": "cf3f4707",
   "metadata": {
    "scrolled": true
   },
   "outputs": [],
   "source": [
    "bond_data['Spread'] = bond_data.apply(calculate_spread, axis=1)"
   ]
  },
  {
   "cell_type": "code",
   "execution_count": 32,
   "id": "74080fad",
   "metadata": {},
   "outputs": [],
   "source": [
    "import seaborn as sns"
   ]
  },
  {
   "cell_type": "code",
   "execution_count": 33,
   "id": "364f3a2d",
   "metadata": {},
   "outputs": [
    {
     "data": {
      "image/png": "[encoded data removed]",
      "text/plain": [
       "<Figure size 1000x600 with 1 Axes>"
      ]
     },
     "metadata": {},
     "output_type": "display_data"
    }
   ],
   "source": [
    "plt.figure(figsize=(10, 6))\n",
    "sns.scatterplot(data=bond_data, \n",
    "                x='WAL (years)', \n",
    "                y='Spread', \n",
    "                hue='Sector',\n",
    "                palette='Set2')\n",
    "plt.title('Spread vs. WAL by Sector')\n",
    "plt.xlabel('WAL (Years)')\n",
    "plt.ylabel('Spread (bps)')\n",
    "plt.legend(bbox_to_anchor=(1.05, 1), loc='upper left')\n",
    "plt.tight_layout()\n",
    "plt.show()"
   ]
  },
  {
   "cell_type": "code",
   "execution_count": 34,
   "id": "b1588e84",
   "metadata": {},
   "outputs": [
    {
     "data": {
      "image/png": "[encoded data removed]",
      "text/plain": [
       "<Figure size 1000x600 with 1 Axes>"
      ]
     },
     "metadata": {},
     "output_type": "display_data"
    }
   ],
   "source": [
    "bins = [0, 2, 5, 10]\n",
    "labels = ['Short', 'Medium', 'Long']\n",
    "bond_data['WAL_Bin'] = pd.cut(bond_data['WAL (years)'], bins=bins, labels=labels)\n",
    "plt.figure(figsize=(10, 6))\n",
    "sns.boxplot(data=bond_data, x='WAL_Bin', y='Spread', hue='Sector')\n",
    "plt.title('Spread by WAL Bucket (Short/Medium/Long) and Sector')\n",
    "plt.xlabel('WAL Bucket')\n",
    "plt.ylabel('Spread (bps)')\n",
    "plt.legend(bbox_to_anchor=(1.05, 1), loc='upper left')\n",
    "plt.tight_layout()\n",
    "plt.show()"
   ]
  },
  {
   "cell_type": "code",
   "execution_count": 35,
   "id": "6f3ef187",
   "metadata": {},
   "outputs": [
    {
     "data": {
      "image/png": "[encoded data removed]",
      "text/plain": [
       "<Figure size 1000x600 with 1 Axes>"
      ]
     },
     "metadata": {},
     "output_type": "display_data"
    }
   ],
   "source": [
    "plt.figure(figsize=(10, 6))\n",
    "sns.histplot(data=bond_data, x='WAL (years)', bins=15, kde=True, color='skyblue')\n",
    "plt.title('Distribution of WAL (Weighted Average Life)')\n",
    "plt.xlabel('WAL (Years)')\n",
    "plt.ylabel('Frequency')\n",
    "plt.show()\n"
   ]
  },
  {
   "cell_type": "markdown",
   "id": "f5ef72cf",
   "metadata": {},
   "source": [
    "# Part 2: Loan Analysis"
   ]
  },
  {
   "cell_type": "code",
   "execution_count": 3,
   "id": "05cb714c",
   "metadata": {},
   "outputs": [],
   "source": [
    "# \"C:\\Users\\elise\\Code-Assessment\\Coding-Assess-main\\data\\Part 2. loan_data_final.csv\"\n",
    "loan_data = pd.read_csv('data\\Part 2. loan_data_final.csv')"
   ]
  },
  {
   "cell_type": "code",
   "execution_count": 4,
   "id": "6b6f02b8",
   "metadata": {},
   "outputs": [
    {
     "name": "stdout",
     "output_type": "stream",
     "text": [
      "   Unnamed: 0  person_age person_gender person_education  person_income  \\\n",
      "0           0          22        female           Master          71948   \n",
      "1           1          21        female      High School          12282   \n",
      "2           2          25        female      High School          12438   \n",
      "3           3          23        female         Bachelor          79753   \n",
      "4           4          24          male           Master          66135   \n",
      "\n",
      "   person_emp_exp person_home_ownership loan_intent  loan_int_rate  \\\n",
      "0               0                  RENT    PERSONAL          16.02   \n",
      "1               0                   OWN   EDUCATION          11.14   \n",
      "2               3              MORTGAGE     MEDICAL          12.87   \n",
      "3               0                  RENT     MEDICAL          15.23   \n",
      "4               1                  RENT     MEDICAL          14.27   \n",
      "\n",
      "   loan_percent_income  cb_person_cred_hist_length  credit_score  \\\n",
      "0                 0.49                           3           561   \n",
      "1                 0.08                           2           504   \n",
      "2                 0.44                           3           635   \n",
      "3                 0.44                           2           675   \n",
      "4                 0.53                           4           586   \n",
      "\n",
      "  previous_loan_defaults_on_file  loan_to_income_ratio loan_type  \\\n",
      "0                             No                  0.49  FLOATING   \n",
      "1                            Yes                  0.08     FIXED   \n",
      "2                             No                  0.44     FIXED   \n",
      "3                             No                  0.44     FIXED   \n",
      "4                             No                  0.53  FLOATING   \n",
      "\n",
      "   dependents_count  regional_unemployment_rate  borrower_risk_score  \\\n",
      "0                 3                        6.84                281.4   \n",
      "1                 0                        5.96                252.4   \n",
      "2                 0                        6.69                318.4   \n",
      "3                 3                        7.63                338.1   \n",
      "4                 0                        4.63                294.2   \n",
      "\n",
      "   loan_status  \n",
      "0            1  \n",
      "1            0  \n",
      "2            1  \n",
      "3            1  \n",
      "4            1  \n",
      "Unnamed: 0                        0\n",
      "person_age                        0\n",
      "person_gender                     0\n",
      "person_education                  0\n",
      "person_income                     0\n",
      "person_emp_exp                    0\n",
      "person_home_ownership             0\n",
      "loan_intent                       0\n",
      "loan_int_rate                     0\n",
      "loan_percent_income               0\n",
      "cb_person_cred_hist_length        0\n",
      "credit_score                      0\n",
      "previous_loan_defaults_on_file    0\n",
      "loan_to_income_ratio              0\n",
      "loan_type                         0\n",
      "dependents_count                  0\n",
      "regional_unemployment_rate        0\n",
      "borrower_risk_score               0\n",
      "loan_status                       0\n",
      "dtype: int64\n"
     ]
    }
   ],
   "source": [
    "# Data exploration\n",
    "print(loan_data.head())\n",
    "print(loan_data.isnull().sum())"
   ]
  },
  {
   "cell_type": "code",
   "execution_count": 5,
   "id": "56a90101",
   "metadata": {},
   "outputs": [],
   "source": [
    "loan_data = pd.get_dummies(loan_data, drop_first=True)"
   ]
  },
  {
   "cell_type": "code",
   "execution_count": 6,
   "id": "81e3342a",
   "metadata": {},
   "outputs": [],
   "source": [
    "import pandas as pd\n",
    "import numpy as np\n",
    "\n",
    "from sklearn.model_selection import train_test_split, GridSearchCV\n",
    "from sklearn.preprocessing import OneHotEncoder, StandardScaler, LabelEncoder\n",
    "from sklearn.pipeline import Pipeline\n",
    "from sklearn.compose import ColumnTransformer\n",
    "\n",
    "from sklearn.ensemble import RandomForestClassifier\n",
    "\n",
    "from sklearn.metrics import confusion_matrix, classification_report, roc_auc_score, accuracy_score\n"
   ]
  },
  {
   "cell_type": "code",
   "execution_count": 7,
   "id": "89b4a9a2",
   "metadata": {},
   "outputs": [
    {
     "name": "stdout",
     "output_type": "stream",
     "text": [
      "person_age                            0\n",
      "person_income                         0\n",
      "person_emp_exp                        0\n",
      "loan_int_rate                         0\n",
      "loan_percent_income                   0\n",
      "cb_person_cred_hist_length            0\n",
      "credit_score                          0\n",
      "loan_to_income_ratio                  0\n",
      "dependents_count                      0\n",
      "regional_unemployment_rate            0\n",
      "borrower_risk_score                   0\n",
      "loan_status                           0\n",
      "person_gender_male                    0\n",
      "person_education_Bachelor             0\n",
      "person_education_Doctorate            0\n",
      "person_education_High School          0\n",
      "person_education_Master               0\n",
      "person_home_ownership_OTHER           0\n",
      "person_home_ownership_OWN             0\n",
      "person_home_ownership_RENT            0\n",
      "loan_intent_EDUCATION                 0\n",
      "loan_intent_HOMEIMPROVEMENT           0\n",
      "loan_intent_MEDICAL                   0\n",
      "loan_intent_PERSONAL                  0\n",
      "loan_intent_VENTURE                   0\n",
      "previous_loan_defaults_on_file_Yes    0\n",
      "loan_type_FLOATING                    0\n",
      "dtype: int64\n"
     ]
    }
   ],
   "source": [
    "loan_data = loan_data.drop(columns=['Unnamed: 0'], errors='ignore')  # Remove unnecessary column\n",
    "loan_data.head()\n",
    "print(loan_data.isnull().sum())\n",
    "num_cols = loan_data.select_dtypes(include=[np.number]).columns\n",
    "cat_cols = loan_data.select_dtypes(exclude=[np.number]).columns\n",
    "\n",
    "loan_data[num_cols] = loan_data[num_cols].fillna(loan_data[num_cols].median())\n",
    "loan_data[cat_cols] = loan_data[cat_cols].fillna('Unknown')"
   ]
  },
  {
   "cell_type": "code",
   "execution_count": 8,
   "id": "b35e8d0a",
   "metadata": {},
   "outputs": [],
   "source": [
    "# 1) Bucket credit_score\n",
    "def bucket_credit_score(score):\n",
    "    if score < 550:\n",
    "        return 'Low'\n",
    "    elif score < 650:\n",
    "        return 'Medium'\n",
    "    else:\n",
    "        return 'High'\n",
    "\n",
    "loan_data['credit_score_bucket'] = loan_data['credit_score'].apply(bucket_credit_score)\n",
    "\n",
    "# 2) Log-transform income (if significantly skewed)\n",
    "loan_data['log_person_income'] = np.log1p(loan_data['person_income'])\n",
    "\n",
    "# 3) Convert previous_loan_defaults_on_file to numeric\n",
    "loan_data['prev_default_flag'] = loan_data['previous_loan_defaults_on_file_Yes'].map({'Yes': 1, 'No': 0})\n",
    "\n",
    "# 4) Age bucket (just an example of 3 bins)\n",
    "bins = [0, 25, 40, 100]  # define your cut-offs\n",
    "labels = ['Young', 'Adult', 'Older']\n",
    "loan_data['age_bucket'] = pd.cut(loan_data['person_age'], bins=bins, labels=labels, include_lowest=True)\n"
   ]
  },
  {
   "cell_type": "code",
   "execution_count": 9,
   "id": "72fef9ae",
   "metadata": {},
   "outputs": [],
   "source": [
    "X = loan_data.drop(columns=['loan_status'])\n",
    "y = loan_data['loan_status']"
   ]
  },
  {
   "cell_type": "code",
   "execution_count": 10,
   "id": "680705ce",
   "metadata": {},
   "outputs": [],
   "source": [
    "numeric_features = [\n",
    "    'person_age', 'person_income', 'log_person_income', 'loan_int_rate',\n",
    "    'loan_percent_income', 'cb_person_cred_hist_length',\n",
    "    'credit_score', 'loan_to_income_ratio', 'dependents_count',\n",
    "    'regional_unemployment_rate', 'borrower_risk_score',\n",
    "    'prev_default_flag',\n",
    "    'person_emp_exp'\n",
    "]\n",
    "\n",
    "numeric_features = [col for col in numeric_features if col in X.columns]\n",
    "\n",
    "categorical_features = [\n",
    "    'person_gender', 'person_education', 'person_home_ownership',\n",
    "    'loan_intent', 'loan_type', 'previous_loan_defaults_on_file',\n",
    "    'credit_score_bucket',\n",
    "    'age_bucket',\n",
    "]\n",
    "\n",
    "categorical_features = [col for col in categorical_features if col in X.columns]"
   ]
  },
  {
   "cell_type": "code",
   "execution_count": 11,
   "id": "a11a156b",
   "metadata": {},
   "outputs": [],
   "source": [
    "X_train, X_test, y_train, y_test = train_test_split(\n",
    "    X, y, test_size=0.2, random_state=42, stratify=y\n",
    ")"
   ]
  },
  {
   "cell_type": "code",
   "execution_count": 16,
   "id": "db8f4c99",
   "metadata": {},
   "outputs": [
    {
     "name": "stderr",
     "output_type": "stream",
     "text": [
      "C:\\ProgramData\\anaconda3\\Lib\\site-packages\\sklearn\\impute\\_base.py:555: UserWarning: Skipping features without any observed values: ['prev_default_flag']. At least one non-missing value is needed for imputation with strategy='most_frequent'.\n",
      "  warnings.warn(\n"
     ]
    },
    {
     "data": {
      "text/html": [
       "<style>#sk-container-id-1 {color: black;}#sk-container-id-1 pre{padding: 0;}#sk-container-id-1 div.sk-toggleable {background-color: white;}#sk-container-id-1 label.sk-toggleable__label {cursor: pointer;display: block;width: 100%;margin-bottom: 0;padding: 0.3em;box-sizing: border-box;text-align: center;}#sk-container-id-1 label.sk-toggleable__label-arrow:before {content: \"▸\";float: left;margin-right: 0.25em;color: #696969;}#sk-container-id-1 label.sk-toggleable__label-arrow:hover:before {color: black;}#sk-container-id-1 div.sk-estimator:hover label.sk-toggleable__label-arrow:before {color: black;}#sk-container-id-1 div.sk-toggleable__content {max-height: 0;max-width: 0;overflow: hidden;text-align: left;background-color: #f0f8ff;}#sk-container-id-1 div.sk-toggleable__content pre {margin: 0.2em;color: black;border-radius: 0.25em;background-color: #f0f8ff;}#sk-container-id-1 input.sk-toggleable__control:checked~div.sk-toggleable__content {max-height: 200px;max-width: 100%;overflow: auto;}#sk-container-id-1 input.sk-toggleable__control:checked~label.sk-toggleable__label-arrow:before {content: \"▾\";}#sk-container-id-1 div.sk-estimator input.sk-toggleable__control:checked~label.sk-toggleable__label {background-color: #d4ebff;}#sk-container-id-1 div.sk-label input.sk-toggleable__control:checked~label.sk-toggleable__label {background-color: #d4ebff;}#sk-container-id-1 input.sk-hidden--visually {border: 0;clip: rect(1px 1px 1px 1px);clip: rect(1px, 1px, 1px, 1px);height: 1px;margin: -1px;overflow: hidden;padding: 0;position: absolute;width: 1px;}#sk-container-id-1 div.sk-estimator {font-family: monospace;background-color: #f0f8ff;border: 1px dotted black;border-radius: 0.25em;box-sizing: border-box;margin-bottom: 0.5em;}#sk-container-id-1 div.sk-estimator:hover {background-color: #d4ebff;}#sk-container-id-1 div.sk-parallel-item::after {content: \"\";width: 100%;border-bottom: 1px solid gray;flex-grow: 1;}#sk-container-id-1 div.sk-label:hover label.sk-toggleable__label {background-color: #d4ebff;}#sk-container-id-1 div.sk-serial::before {content: \"\";position: absolute;border-left: 1px solid gray;box-sizing: border-box;top: 0;bottom: 0;left: 50%;z-index: 0;}#sk-container-id-1 div.sk-serial {display: flex;flex-direction: column;align-items: center;background-color: white;padding-right: 0.2em;padding-left: 0.2em;position: relative;}#sk-container-id-1 div.sk-item {position: relative;z-index: 1;}#sk-container-id-1 div.sk-parallel {display: flex;align-items: stretch;justify-content: center;background-color: white;position: relative;}#sk-container-id-1 div.sk-item::before, #sk-container-id-1 div.sk-parallel-item::before {content: \"\";position: absolute;border-left: 1px solid gray;box-sizing: border-box;top: 0;bottom: 0;left: 50%;z-index: -1;}#sk-container-id-1 div.sk-parallel-item {display: flex;flex-direction: column;z-index: 1;position: relative;background-color: white;}#sk-container-id-1 div.sk-parallel-item:first-child::after {align-self: flex-end;width: 50%;}#sk-container-id-1 div.sk-parallel-item:last-child::after {align-self: flex-start;width: 50%;}#sk-container-id-1 div.sk-parallel-item:only-child::after {width: 0;}#sk-container-id-1 div.sk-dashed-wrapped {border: 1px dashed gray;margin: 0 0.4em 0.5em 0.4em;box-sizing: border-box;padding-bottom: 0.4em;background-color: white;}#sk-container-id-1 div.sk-label label {font-family: monospace;font-weight: bold;display: inline-block;line-height: 1.2em;}#sk-container-id-1 div.sk-label-container {text-align: center;}#sk-container-id-1 div.sk-container {/* jupyter's `normalize.less` sets `[hidden] { display: none; }` but bootstrap.min.css set `[hidden] { display: none !important; }` so we also need the `!important` here to be able to override the default hidden behavior on the sphinx rendered scikit-learn.org. See: https://github.com/scikit-learn/scikit-learn/issues/21755 */display: inline-block !important;position: relative;}#sk-container-id-1 div.sk-text-repr-fallback {display: none;}</style><div id=\"sk-container-id-1\" class=\"sk-top-container\"><div class=\"sk-text-repr-fallback\"><pre>Pipeline(steps=[(&#x27;preprocessor&#x27;,\n",
       "                 ColumnTransformer(transformers=[(&#x27;num&#x27;,\n",
       "                                                  Pipeline(steps=[(&#x27;imputer&#x27;,\n",
       "                                                                   SimpleImputer(strategy=&#x27;most_frequent&#x27;)),\n",
       "                                                                  (&#x27;scaler&#x27;,\n",
       "                                                                   StandardScaler())]),\n",
       "                                                  [&#x27;person_age&#x27;,\n",
       "                                                   &#x27;person_income&#x27;,\n",
       "                                                   &#x27;log_person_income&#x27;,\n",
       "                                                   &#x27;loan_int_rate&#x27;,\n",
       "                                                   &#x27;loan_percent_income&#x27;,\n",
       "                                                   &#x27;cb_person_cred_hist_length&#x27;,\n",
       "                                                   &#x27;credit_score&#x27;,\n",
       "                                                   &#x27;loan_to_income_ratio&#x27;,\n",
       "                                                   &#x27;dependents_count&#x27;,\n",
       "                                                   &#x27;regional_unemployment_rate&#x27;,\n",
       "                                                   &#x27;borrower_risk_score&#x27;,\n",
       "                                                   &#x27;prev_default_flag&#x27;,\n",
       "                                                   &#x27;person_emp_exp&#x27;]),\n",
       "                                                 (&#x27;cat&#x27;,\n",
       "                                                  Pipeline(steps=[(&#x27;imputer&#x27;,\n",
       "                                                                   SimpleImputer(strategy=&#x27;most_frequent&#x27;)),\n",
       "                                                                  (&#x27;onehot&#x27;,\n",
       "                                                                   OneHotEncoder(handle_unknown=&#x27;ignore&#x27;))]),\n",
       "                                                  [&#x27;credit_score_bucket&#x27;,\n",
       "                                                   &#x27;age_bucket&#x27;])])),\n",
       "                (&#x27;classifier&#x27;,\n",
       "                 HistGradientBoostingClassifier(random_state=42))])</pre><b>In a Jupyter environment, please rerun this cell to show the HTML representation or trust the notebook. <br />On GitHub, the HTML representation is unable to render, please try loading this page with nbviewer.org.</b></div><div class=\"sk-container\" hidden><div class=\"sk-item sk-dashed-wrapped\"><div class=\"sk-label-container\"><div class=\"sk-label sk-toggleable\"><input class=\"sk-toggleable__control sk-hidden--visually\" id=\"sk-estimator-id-1\" type=\"checkbox\" ><label for=\"sk-estimator-id-1\" class=\"sk-toggleable__label sk-toggleable__label-arrow\">Pipeline</label><div class=\"sk-toggleable__content\"><pre>Pipeline(steps=[(&#x27;preprocessor&#x27;,\n",
       "                 ColumnTransformer(transformers=[(&#x27;num&#x27;,\n",
       "                                                  Pipeline(steps=[(&#x27;imputer&#x27;,\n",
       "                                                                   SimpleImputer(strategy=&#x27;most_frequent&#x27;)),\n",
       "                                                                  (&#x27;scaler&#x27;,\n",
       "                                                                   StandardScaler())]),\n",
       "                                                  [&#x27;person_age&#x27;,\n",
       "                                                   &#x27;person_income&#x27;,\n",
       "                                                   &#x27;log_person_income&#x27;,\n",
       "                                                   &#x27;loan_int_rate&#x27;,\n",
       "                                                   &#x27;loan_percent_income&#x27;,\n",
       "                                                   &#x27;cb_person_cred_hist_length&#x27;,\n",
       "                                                   &#x27;credit_score&#x27;,\n",
       "                                                   &#x27;loan_to_income_ratio&#x27;,\n",
       "                                                   &#x27;dependents_count&#x27;,\n",
       "                                                   &#x27;regional_unemployment_rate&#x27;,\n",
       "                                                   &#x27;borrower_risk_score&#x27;,\n",
       "                                                   &#x27;prev_default_flag&#x27;,\n",
       "                                                   &#x27;person_emp_exp&#x27;]),\n",
       "                                                 (&#x27;cat&#x27;,\n",
       "                                                  Pipeline(steps=[(&#x27;imputer&#x27;,\n",
       "                                                                   SimpleImputer(strategy=&#x27;most_frequent&#x27;)),\n",
       "                                                                  (&#x27;onehot&#x27;,\n",
       "                                                                   OneHotEncoder(handle_unknown=&#x27;ignore&#x27;))]),\n",
       "                                                  [&#x27;credit_score_bucket&#x27;,\n",
       "                                                   &#x27;age_bucket&#x27;])])),\n",
       "                (&#x27;classifier&#x27;,\n",
       "                 HistGradientBoostingClassifier(random_state=42))])</pre></div></div></div><div class=\"sk-serial\"><div class=\"sk-item sk-dashed-wrapped\"><div class=\"sk-label-container\"><div class=\"sk-label sk-toggleable\"><input class=\"sk-toggleable__control sk-hidden--visually\" id=\"sk-estimator-id-2\" type=\"checkbox\" ><label for=\"sk-estimator-id-2\" class=\"sk-toggleable__label sk-toggleable__label-arrow\">preprocessor: ColumnTransformer</label><div class=\"sk-toggleable__content\"><pre>ColumnTransformer(transformers=[(&#x27;num&#x27;,\n",
       "                                 Pipeline(steps=[(&#x27;imputer&#x27;,\n",
       "                                                  SimpleImputer(strategy=&#x27;most_frequent&#x27;)),\n",
       "                                                 (&#x27;scaler&#x27;, StandardScaler())]),\n",
       "                                 [&#x27;person_age&#x27;, &#x27;person_income&#x27;,\n",
       "                                  &#x27;log_person_income&#x27;, &#x27;loan_int_rate&#x27;,\n",
       "                                  &#x27;loan_percent_income&#x27;,\n",
       "                                  &#x27;cb_person_cred_hist_length&#x27;, &#x27;credit_score&#x27;,\n",
       "                                  &#x27;loan_to_income_ratio&#x27;, &#x27;dependents_count&#x27;,\n",
       "                                  &#x27;regional_unemployment_rate&#x27;,\n",
       "                                  &#x27;borrower_risk_score&#x27;, &#x27;prev_default_flag&#x27;,\n",
       "                                  &#x27;person_emp_exp&#x27;]),\n",
       "                                (&#x27;cat&#x27;,\n",
       "                                 Pipeline(steps=[(&#x27;imputer&#x27;,\n",
       "                                                  SimpleImputer(strategy=&#x27;most_frequent&#x27;)),\n",
       "                                                 (&#x27;onehot&#x27;,\n",
       "                                                  OneHotEncoder(handle_unknown=&#x27;ignore&#x27;))]),\n",
       "                                 [&#x27;credit_score_bucket&#x27;, &#x27;age_bucket&#x27;])])</pre></div></div></div><div class=\"sk-parallel\"><div class=\"sk-parallel-item\"><div class=\"sk-item\"><div class=\"sk-label-container\"><div class=\"sk-label sk-toggleable\"><input class=\"sk-toggleable__control sk-hidden--visually\" id=\"sk-estimator-id-3\" type=\"checkbox\" ><label for=\"sk-estimator-id-3\" class=\"sk-toggleable__label sk-toggleable__label-arrow\">num</label><div class=\"sk-toggleable__content\"><pre>[&#x27;person_age&#x27;, &#x27;person_income&#x27;, &#x27;log_person_income&#x27;, &#x27;loan_int_rate&#x27;, &#x27;loan_percent_income&#x27;, &#x27;cb_person_cred_hist_length&#x27;, &#x27;credit_score&#x27;, &#x27;loan_to_income_ratio&#x27;, &#x27;dependents_count&#x27;, &#x27;regional_unemployment_rate&#x27;, &#x27;borrower_risk_score&#x27;, &#x27;prev_default_flag&#x27;, &#x27;person_emp_exp&#x27;]</pre></div></div></div><div class=\"sk-serial\"><div class=\"sk-item\"><div class=\"sk-serial\"><div class=\"sk-item\"><div class=\"sk-estimator sk-toggleable\"><input class=\"sk-toggleable__control sk-hidden--visually\" id=\"sk-estimator-id-4\" type=\"checkbox\" ><label for=\"sk-estimator-id-4\" class=\"sk-toggleable__label sk-toggleable__label-arrow\">SimpleImputer</label><div class=\"sk-toggleable__content\"><pre>SimpleImputer(strategy=&#x27;most_frequent&#x27;)</pre></div></div></div><div class=\"sk-item\"><div class=\"sk-estimator sk-toggleable\"><input class=\"sk-toggleable__control sk-hidden--visually\" id=\"sk-estimator-id-5\" type=\"checkbox\" ><label for=\"sk-estimator-id-5\" class=\"sk-toggleable__label sk-toggleable__label-arrow\">StandardScaler</label><div class=\"sk-toggleable__content\"><pre>StandardScaler()</pre></div></div></div></div></div></div></div></div><div class=\"sk-parallel-item\"><div class=\"sk-item\"><div class=\"sk-label-container\"><div class=\"sk-label sk-toggleable\"><input class=\"sk-toggleable__control sk-hidden--visually\" id=\"sk-estimator-id-6\" type=\"checkbox\" ><label for=\"sk-estimator-id-6\" class=\"sk-toggleable__label sk-toggleable__label-arrow\">cat</label><div class=\"sk-toggleable__content\"><pre>[&#x27;credit_score_bucket&#x27;, &#x27;age_bucket&#x27;]</pre></div></div></div><div class=\"sk-serial\"><div class=\"sk-item\"><div class=\"sk-serial\"><div class=\"sk-item\"><div class=\"sk-estimator sk-toggleable\"><input class=\"sk-toggleable__control sk-hidden--visually\" id=\"sk-estimator-id-7\" type=\"checkbox\" ><label for=\"sk-estimator-id-7\" class=\"sk-toggleable__label sk-toggleable__label-arrow\">SimpleImputer</label><div class=\"sk-toggleable__content\"><pre>SimpleImputer(strategy=&#x27;most_frequent&#x27;)</pre></div></div></div><div class=\"sk-item\"><div class=\"sk-estimator sk-toggleable\"><input class=\"sk-toggleable__control sk-hidden--visually\" id=\"sk-estimator-id-8\" type=\"checkbox\" ><label for=\"sk-estimator-id-8\" class=\"sk-toggleable__label sk-toggleable__label-arrow\">OneHotEncoder</label><div class=\"sk-toggleable__content\"><pre>OneHotEncoder(handle_unknown=&#x27;ignore&#x27;)</pre></div></div></div></div></div></div></div></div></div></div><div class=\"sk-item\"><div class=\"sk-estimator sk-toggleable\"><input class=\"sk-toggleable__control sk-hidden--visually\" id=\"sk-estimator-id-9\" type=\"checkbox\" ><label for=\"sk-estimator-id-9\" class=\"sk-toggleable__label sk-toggleable__label-arrow\">HistGradientBoostingClassifier</label><div class=\"sk-toggleable__content\"><pre>HistGradientBoostingClassifier(random_state=42)</pre></div></div></div></div></div></div></div>"
      ],
      "text/plain": [
       "Pipeline(steps=[('preprocessor',\n",
       "                 ColumnTransformer(transformers=[('num',\n",
       "                                                  Pipeline(steps=[('imputer',\n",
       "                                                                   SimpleImputer(strategy='most_frequent')),\n",
       "                                                                  ('scaler',\n",
       "                                                                   StandardScaler())]),\n",
       "                                                  ['person_age',\n",
       "                                                   'person_income',\n",
       "                                                   'log_person_income',\n",
       "                                                   'loan_int_rate',\n",
       "                                                   'loan_percent_income',\n",
       "                                                   'cb_person_cred_hist_length',\n",
       "                                                   'credit_score',\n",
       "                                                   'loan_to_income_ratio',\n",
       "                                                   'dependents_count',\n",
       "                                                   'regional_unemployment_rate',\n",
       "                                                   'borrower_risk_score',\n",
       "                                                   'prev_default_flag',\n",
       "                                                   'person_emp_exp']),\n",
       "                                                 ('cat',\n",
       "                                                  Pipeline(steps=[('imputer',\n",
       "                                                                   SimpleImputer(strategy='most_frequent')),\n",
       "                                                                  ('onehot',\n",
       "                                                                   OneHotEncoder(handle_unknown='ignore'))]),\n",
       "                                                  ['credit_score_bucket',\n",
       "                                                   'age_bucket'])])),\n",
       "                ('classifier',\n",
       "                 HistGradientBoostingClassifier(random_state=42))])"
      ]
     },
     "execution_count": 16,
     "metadata": {},
     "output_type": "execute_result"
    }
   ],
   "source": [
    "from sklearn.ensemble import HistGradientBoostingClassifier\n",
    "from sklearn.impute import SimpleImputer\n",
    "\n",
    "numeric_transformer = Pipeline(steps=[\n",
    "    ('imputer', SimpleImputer(strategy='most_frequent')),\n",
    "    ('scaler', StandardScaler())\n",
    "])\n",
    "\n",
    "categorical_transformer = Pipeline(steps=[\n",
    "    ('imputer', SimpleImputer(strategy='most_frequent')),\n",
    "    ('onehot', OneHotEncoder(handle_unknown='ignore'))\n",
    "])\n",
    "\n",
    "preprocessor = ColumnTransformer(\n",
    "    transformers=[\n",
    "        ('num', numeric_transformer, numeric_features),\n",
    "        ('cat', categorical_transformer, categorical_features)\n",
    "    ],\n",
    "    remainder='drop'\n",
    ")\n",
    "\n",
    "model_pipeline = Pipeline(steps=[\n",
    "    ('preprocessor', preprocessor),\n",
    "    ('classifier', HistGradientBoostingClassifier(random_state=42))\n",
    "])\n",
    "model_pipeline.fit(X_train, y_train)"
   ]
  },
  {
   "cell_type": "code",
   "execution_count": 17,
   "id": "77a513ec",
   "metadata": {
    "scrolled": true
   },
   "outputs": [
    {
     "name": "stdout",
     "output_type": "stream",
     "text": [
      "Confusion Matrix:\n",
      "[[6559  441]\n",
      " [ 764 1236]]\n",
      "\n",
      "Classification Report:\n",
      "              precision    recall  f1-score   support\n",
      "\n",
      "           0       0.90      0.94      0.92      7000\n",
      "           1       0.74      0.62      0.67      2000\n",
      "\n",
      "    accuracy                           0.87      9000\n",
      "   macro avg       0.82      0.78      0.79      9000\n",
      "weighted avg       0.86      0.87      0.86      9000\n",
      "\n",
      "ROC-AUC Score: 0.8935\n",
      "Accuracy: 0.8661\n"
     ]
    },
    {
     "name": "stderr",
     "output_type": "stream",
     "text": [
      "C:\\ProgramData\\anaconda3\\Lib\\site-packages\\sklearn\\impute\\_base.py:555: UserWarning: Skipping features without any observed values: ['prev_default_flag']. At least one non-missing value is needed for imputation with strategy='most_frequent'.\n",
      "  warnings.warn(\n",
      "C:\\ProgramData\\anaconda3\\Lib\\site-packages\\sklearn\\impute\\_base.py:555: UserWarning: Skipping features without any observed values: ['prev_default_flag']. At least one non-missing value is needed for imputation with strategy='most_frequent'.\n",
      "  warnings.warn(\n"
     ]
    }
   ],
   "source": [
    "from sklearn.metrics import confusion_matrix, classification_report, roc_auc_score, accuracy_score\n",
    "\n",
    "y_pred = model_pipeline.predict(X_test)\n",
    "y_prob = model_pipeline.predict_proba(X_test)[:, 1] \n",
    "\n",
    "print(\"Confusion Matrix:\")\n",
    "print(confusion_matrix(y_test, y_pred))\n",
    "\n",
    "print(\"\\nClassification Report:\")\n",
    "print(classification_report(y_test, y_pred))\n",
    "\n",
    "auc_score = roc_auc_score(y_test, y_prob)\n",
    "print(f\"ROC-AUC Score: {auc_score:.4f}\")\n",
    "\n",
    "acc_score = accuracy_score(y_test, y_pred)\n",
    "print(f\"Accuracy: {acc_score:.4f}\")"
   ]
  },
  {
   "cell_type": "markdown",
   "id": "d7b17dee",
   "metadata": {},
   "source": [
    "## Final Review\n",
    "#### Confusion Matrix:\n",
    "The model had 6559 true negatives, 441 false positives, 764 false negatives, and 1236 true positives. \n",
    "\n",
    "#### Classification Report:\n",
    "The model had 90% accuracy for predicting class 0 and 74% accuracy for predicting class 1.  \n",
    "When the model predicted class 0, it was correct 90% of the time. When the model predicted class 1, it was correct 74% of the time. It correctly identified 94% of class 0 and 62% of class 1. The overall accuracy of the model was 87%. \n",
    "\n",
    "#### ROC-AUC Score:\n",
    "The model has a generally good ROC-AUC score of 89.35%. This measures how well the model separates the two classes across different classification thresholds. "
   ]
  }
 ],
 "metadata": {
  "kernelspec": {
   "display_name": "Python 3 (ipykernel)",
   "language": "python",
   "name": "python3"
  },
  "language_info": {
   "codemirror_mode": {
    "name": "ipython",
    "version": 3
   },
   "file_extension": ".py",
   "mimetype": "text/x-python",
   "name": "python",
   "nbconvert_exporter": "python",
   "pygments_lexer": "ipython3",
   "version": "3.11.4"
  }
 },
 "nbformat": 4,
 "nbformat_minor": 5
}
