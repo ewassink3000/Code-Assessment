{
 "cells": [
  {
   "cell_type": "code",
   "execution_count": 8,
   "id": "ac02e72e",
   "metadata": {},
   "outputs": [],
   "source": [
    "import requests\n",
    "import pandas as pd"
   ]
  },
  {
   "cell_type": "code",
   "execution_count": 46,
   "id": "e68c3647",
   "metadata": {},
   "outputs": [],
   "source": [
    "def fetch_fred_yield(series_id, start_date=\"2023-01-01\", end_date=\"2023-12-31\", api_key=\"your_api_key\"):\n",
    "    # Define the API URL and parameters here\n",
    "    FRED_URL_OBS = \"https://api.stlouisfed.org/fred/series/observations\"\n",
    "    params_obs = {\n",
    "        'series_id': series_id,\n",
    "        'api_key': FRED_API_KEY,\n",
    "        'file_type': 'json',\n",
    "        'observation_start': start_date,\n",
    "        'observation_end': end_date\n",
    "    }\n",
    "    \n",
    "    # Make an API request and handle errors\n",
    "    response = requests.get(FRED_URL_OBS, params = params_obs)\n",
    "    # Convert response JSON into a DataFrame, setting 'date' as index\n",
    "    data = response.json()\n",
    "    df = pd.DataFrame(data['observations'])[['date', 'value']]\n",
    "    \n",
    "    # Convert the 'value' column to numeric and rename it based on series_id\n",
    "    df['value'] = pd.to_numeric(df['value'], errors = 'coerce')\n",
    "    df.set_index('date', inplace = True)\n",
    "    \n",
    "    df.rename(columns={'value': series_id}, inplace=True)\n",
    "    \n",
    "    return df  # Final DataFrame with date index and yield column"
   ]
  },
  {
   "cell_type": "code",
   "execution_count": 47,
   "id": "3a630cd1",
   "metadata": {},
   "outputs": [],
   "source": [
    "tenor_series_ids = [\n",
    "    \"DGS1MO\", \"DGS3MO\", \"DGS6MO\", \"DGS1\",  # Short-term yields\n",
    "    \"DGS2\", \"DGS3\", \"DGS5\",               # Medium-term yields\n",
    "    \"DGS7\", \"DGS10\", \"DGS20\", \"DGS30\"     # Long-term yields\n",
    "]"
   ]
  },
  {
   "cell_type": "code",
   "execution_count": 48,
   "id": "4e2674e7",
   "metadata": {},
   "outputs": [],
   "source": [
    "# Initialize API key\n",
    "FRED_API_KEY = 'fa18d1f8129ead8c2ed605f0986c8253'"
   ]
  },
  {
   "cell_type": "code",
   "execution_count": 51,
   "id": "d08b0b77",
   "metadata": {
    "scrolled": true
   },
   "outputs": [],
   "source": [
    "# Fetch data for each tenor, store in a dictionary of DataFrames\n",
    "tenors_df = {}\n",
    "for tenor_id in tenor_series_ids:    \n",
    "    df_tenor = fetch_fred_yield(tenor_id, \"2023-01-01\", \"2023-12-31\", FRED_API_KEY)\n",
    "    tenors_df[tenor_id] = df_tenor"
   ]
  },
  {
   "cell_type": "code",
   "execution_count": 52,
   "id": "4e09b8ab",
   "metadata": {},
   "outputs": [
    {
     "name": "stdout",
     "output_type": "stream",
     "text": [
      "            DGS1MO  DGS3MO  DGS6MO  DGS1  DGS2  DGS3  DGS5  DGS7  DGS10  \\\n",
      "date                                                                      \n",
      "2023-01-02     NaN     NaN     NaN   NaN   NaN   NaN   NaN   NaN    NaN   \n",
      "2023-01-03    4.17    4.53    4.77  4.72  4.40  4.18  3.94  3.89   3.79   \n",
      "2023-01-04    4.20    4.55    4.77  4.71  4.36  4.11  3.85  3.79   3.69   \n",
      "2023-01-05    4.30    4.66    4.81  4.78  4.45  4.18  3.90  3.82   3.71   \n",
      "2023-01-06    4.32    4.67    4.79  4.71  4.24  3.96  3.69  3.63   3.55   \n",
      "...            ...     ...     ...   ...   ...   ...   ...   ...    ...   \n",
      "2023-12-25     NaN     NaN     NaN   NaN   NaN   NaN   NaN   NaN    NaN   \n",
      "2023-12-26    5.53    5.45    5.28  4.83  4.26  4.05  3.89  3.91   3.89   \n",
      "2023-12-27    5.55    5.44    5.26  4.79  4.20  3.97  3.78  3.81   3.79   \n",
      "2023-12-28    5.57    5.45    5.28  4.82  4.26  4.02  3.83  3.84   3.84   \n",
      "2023-12-29    5.60    5.40    5.26  4.79  4.23  4.01  3.84  3.88   3.88   \n",
      "\n",
      "            DGS20  DGS30  \n",
      "date                      \n",
      "2023-01-02    NaN    NaN  \n",
      "2023-01-03   4.06   3.88  \n",
      "2023-01-04   3.97   3.81  \n",
      "2023-01-05   3.96   3.78  \n",
      "2023-01-06   3.84   3.67  \n",
      "...           ...    ...  \n",
      "2023-12-25    NaN    NaN  \n",
      "2023-12-26   4.20   4.04  \n",
      "2023-12-27   4.10   3.95  \n",
      "2023-12-28   4.14   3.98  \n",
      "2023-12-29   4.20   4.03  \n",
      "\n",
      "[260 rows x 11 columns]\n"
     ]
    }
   ],
   "source": [
    "# Combine all DataFrames into a single DataFrame, joining on the date index\n",
    "df_combined = pd.concat(tenors_df.values(), axis=1)\n",
    "print(df_combined)"
   ]
  },
  {
   "cell_type": "code",
   "execution_count": 44,
   "id": "7ef6548a",
   "metadata": {},
   "outputs": [
    {
     "name": "stdout",
     "output_type": "stream",
     "text": [
      "Number of rows in df_combined: 260\n"
     ]
    }
   ],
   "source": [
    "# Print the number of rows in the final DataFrame\n",
    "num_rows = df_combined.shape[0]\n",
    "print(f\"Number of rows in df_combined: {num_rows}\")"
   ]
  }
 ],
 "metadata": {
  "kernelspec": {
   "display_name": "Python 3 (ipykernel)",
   "language": "python",
   "name": "python3"
  },
  "language_info": {
   "codemirror_mode": {
    "name": "ipython",
    "version": 3
   },
   "file_extension": ".py",
   "mimetype": "text/x-python",
   "name": "python",
   "nbconvert_exporter": "python",
   "pygments_lexer": "ipython3",
   "version": "3.11.4"
  }
 },
 "nbformat": 4,
 "nbformat_minor": 5
}
